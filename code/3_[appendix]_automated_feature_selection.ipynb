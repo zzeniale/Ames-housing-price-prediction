{
 "cells": [
  {
   "cell_type": "markdown",
   "metadata": {},
   "source": [
    "# Project 2: Ames Housing Saleprice Prediction\n",
    "---\n",
    "Project notebook organisation:<br>\n",
    "[1 - Exploratory Data Analysis](./1_exploratory_data_analysis.ipynb)<br>\n",
    "[2 - Preprocessing and Feature Engineering](./2_preprocessing_and_feature_engineering.ipynb)<br>\n",
    "[3 - Model Tuning and Insights](./3_model_tuning_and_insights.ipynb)<br>\n",
    "**3.1 - Model Performance with Automated Feature Selection** (current notebook)<br>\n",
    "<br>\n",
    "<br>"
   ]
  },
  {
   "cell_type": "code",
   "execution_count": 1,
   "metadata": {
    "ExecuteTime": {
     "end_time": "2019-11-04T08:59:53.119454Z",
     "start_time": "2019-11-04T08:59:50.412088Z"
    }
   },
   "outputs": [],
   "source": [
    "# import libraries\n",
    "import pandas as pd\n",
    "import numpy as np\n",
    "import matplotlib.pyplot as plt\n",
    "import seaborn as sns\n",
    "import warnings\n",
    "warnings.filterwarnings('ignore')\n",
    "import featuretools as ft\n",
    "from sklearn import preprocessing\n",
    "from sklearn.preprocessing import StandardScaler, RobustScaler, PowerTransformer\n",
    "from sklearn.model_selection import cross_val_score, train_test_split, KFold\n",
    "from sklearn.linear_model import LinearRegression, Lasso, LassoCV, Ridge, RidgeCV, ElasticNet, ElasticNetCV \n",
    "from sklearn.metrics import mean_squared_error\n",
    "from sklearn.dummy import DummyRegressor\n",
    "\n",
    "sns.set_style('ticks')\n",
    "\n",
    "pd.set_option('display.max_columns', None)\n",
    "pd.set_option('display.width', 3000)\n",
    "\n",
    "%matplotlib inline"
   ]
  },
  {
   "cell_type": "markdown",
   "metadata": {},
   "source": [
    "## Introduction\n",
    "---"
   ]
  },
  {
   "cell_type": "markdown",
   "metadata": {},
   "source": [
    "In this appendix, I used the [`featuretools` library](https://github.com/Featuretools/featuretools) to automate the feature engineering and preprocessing process. Compared to the manual feature cleaning that I did in [notebook #2](./2_preprocessing_and_feature_engineering.ipynb), this not only saves time, but also generates many more potentially useful features. I then evaluated the resulting features using the same model I developed in the previous notebook.\n",
    "\n",
    "In summary, while `featuretools` greatly saved the amount of time needed for feature preprocessing, in this particular case, it did not outperform manual feature cleaning. "
   ]
  },
  {
   "cell_type": "markdown",
   "metadata": {},
   "source": [
    "### Contents"
   ]
  },
  {
   "cell_type": "markdown",
   "metadata": {},
   "source": [
    "1. [Build preprocessing function](#Build-preprocessing-function)\n",
    "2. [Check preprocessing function](#Check-preprocessing-function)\n",
    "3. [Data transformations](#Transformations)\n",
    "4. [Final preprocessing workflow](#Final-preprocessing-workflow)\n",
    "5. [Export preorcessed data](#Export-data)"
   ]
  },
  {
   "cell_type": "markdown",
   "metadata": {},
   "source": [
    "## Preprocessing with `featuretools`\n",
    "---"
   ]
  },
  {
   "cell_type": "markdown",
   "metadata": {},
   "source": [
    "### Import data"
   ]
  },
  {
   "cell_type": "code",
   "execution_count": 4,
   "metadata": {
    "ExecuteTime": {
     "end_time": "2019-11-04T09:00:02.356805Z",
     "start_time": "2019-11-04T09:00:02.286120Z"
    },
    "scrolled": true
   },
   "outputs": [
    {
     "name": "stdout",
     "output_type": "stream",
     "text": [
      "Index(['Id', 'PID', 'MS SubClass', 'MS Zoning', 'Lot Frontage', 'Lot Area', 'Street', 'Alley', 'Lot Shape', 'Land Contour', 'Utilities', 'Lot Config', 'Land Slope', 'Neighborhood', 'Condition 1', 'Condition 2', 'Bldg Type', 'House Style', 'Overall Qual', 'Overall Cond', 'Year Built', 'Year Remod/Add', 'Roof Style', 'Roof Matl', 'Exterior 1st', 'Exterior 2nd', 'Mas Vnr Type', 'Mas Vnr Area', 'Exter Qual', 'Exter Cond', 'Foundation', 'Bsmt Qual', 'Bsmt Cond', 'Bsmt Exposure', 'BsmtFin Type 1', 'BsmtFin SF 1', 'BsmtFin Type 2', 'BsmtFin SF 2', 'Bsmt Unf SF', 'Total Bsmt SF', 'Heating', 'Heating QC', 'Central Air', 'Electrical', '1st Flr SF', '2nd Flr SF', 'Low Qual Fin SF', 'Gr Liv Area', 'Bsmt Full Bath', 'Bsmt Half Bath', 'Full Bath', 'Half Bath', 'Bedroom AbvGr', 'Kitchen AbvGr', 'Kitchen Qual', 'TotRms AbvGrd', 'Functional', 'Fireplaces', 'Fireplace Qu', 'Garage Type', 'Garage Yr Blt', 'Garage Finish', 'Garage Cars', 'Garage Area', 'Garage Qual', 'Garage Cond', 'Paved Drive', 'Wood Deck SF', 'Open Porch SF', 'Enclosed Porch', '3Ssn Porch', 'Screen Porch', 'Pool Area', 'Pool QC', 'Fence', 'Misc Feature', 'Misc Val', 'Mo Sold', 'Yr Sold', 'Sale Type', 'SalePrice'], dtype='object')\n",
      "<class 'pandas.core.frame.DataFrame'>\n",
      "RangeIndex: 2051 entries, 0 to 2050\n",
      "Data columns (total 81 columns):\n",
      "Id                 2051 non-null int64\n",
      "PID                2051 non-null int64\n",
      "MS SubClass        2051 non-null int64\n",
      "MS Zoning          2051 non-null object\n",
      "Lot Frontage       1721 non-null float64\n",
      "Lot Area           2051 non-null int64\n",
      "Street             2051 non-null object\n",
      "Alley              140 non-null object\n",
      "Lot Shape          2051 non-null object\n",
      "Land Contour       2051 non-null object\n",
      "Utilities          2051 non-null object\n",
      "Lot Config         2051 non-null object\n",
      "Land Slope         2051 non-null object\n",
      "Neighborhood       2051 non-null object\n",
      "Condition 1        2051 non-null object\n",
      "Condition 2        2051 non-null object\n",
      "Bldg Type          2051 non-null object\n",
      "House Style        2051 non-null object\n",
      "Overall Qual       2051 non-null int64\n",
      "Overall Cond       2051 non-null int64\n",
      "Year Built         2051 non-null int64\n",
      "Year Remod/Add     2051 non-null int64\n",
      "Roof Style         2051 non-null object\n",
      "Roof Matl          2051 non-null object\n",
      "Exterior 1st       2051 non-null object\n",
      "Exterior 2nd       2051 non-null object\n",
      "Mas Vnr Type       2029 non-null object\n",
      "Mas Vnr Area       2029 non-null float64\n",
      "Exter Qual         2051 non-null object\n",
      "Exter Cond         2051 non-null object\n",
      "Foundation         2051 non-null object\n",
      "Bsmt Qual          1996 non-null object\n",
      "Bsmt Cond          1996 non-null object\n",
      "Bsmt Exposure      1993 non-null object\n",
      "BsmtFin Type 1     1996 non-null object\n",
      "BsmtFin SF 1       2050 non-null float64\n",
      "BsmtFin Type 2     1995 non-null object\n",
      "BsmtFin SF 2       2050 non-null float64\n",
      "Bsmt Unf SF        2050 non-null float64\n",
      "Total Bsmt SF      2050 non-null float64\n",
      "Heating            2051 non-null object\n",
      "Heating QC         2051 non-null object\n",
      "Central Air        2051 non-null object\n",
      "Electrical         2051 non-null object\n",
      "1st Flr SF         2051 non-null int64\n",
      "2nd Flr SF         2051 non-null int64\n",
      "Low Qual Fin SF    2051 non-null int64\n",
      "Gr Liv Area        2051 non-null int64\n",
      "Bsmt Full Bath     2049 non-null float64\n",
      "Bsmt Half Bath     2049 non-null float64\n",
      "Full Bath          2051 non-null int64\n",
      "Half Bath          2051 non-null int64\n",
      "Bedroom AbvGr      2051 non-null int64\n",
      "Kitchen AbvGr      2051 non-null int64\n",
      "Kitchen Qual       2051 non-null object\n",
      "TotRms AbvGrd      2051 non-null int64\n",
      "Functional         2051 non-null object\n",
      "Fireplaces         2051 non-null int64\n",
      "Fireplace Qu       1051 non-null object\n",
      "Garage Type        1938 non-null object\n",
      "Garage Yr Blt      1937 non-null float64\n",
      "Garage Finish      1937 non-null object\n",
      "Garage Cars        2050 non-null float64\n",
      "Garage Area        2050 non-null float64\n",
      "Garage Qual        1937 non-null object\n",
      "Garage Cond        1937 non-null object\n",
      "Paved Drive        2051 non-null object\n",
      "Wood Deck SF       2051 non-null int64\n",
      "Open Porch SF      2051 non-null int64\n",
      "Enclosed Porch     2051 non-null int64\n",
      "3Ssn Porch         2051 non-null int64\n",
      "Screen Porch       2051 non-null int64\n",
      "Pool Area          2051 non-null int64\n",
      "Pool QC            9 non-null object\n",
      "Fence              400 non-null object\n",
      "Misc Feature       65 non-null object\n",
      "Misc Val           2051 non-null int64\n",
      "Mo Sold            2051 non-null int64\n",
      "Yr Sold            2051 non-null int64\n",
      "Sale Type          2051 non-null object\n",
      "SalePrice          2051 non-null int64\n",
      "dtypes: float64(11), int64(28), object(42)\n",
      "memory usage: 1.3+ MB\n"
     ]
    }
   ],
   "source": [
    "# import train\n",
    "train = pd.read_csv (\"../data/train.csv\")\n",
    "\n",
    "# check df\n",
    "print(train.columns)\n",
    "train.info()"
   ]
  },
  {
   "cell_type": "markdown",
   "metadata": {},
   "source": [
    "### Convert data to int/float32\n",
    "To save time during `featuretools` preprocessing, columns were first converted to less memory-intensive types."
   ]
  },
  {
   "cell_type": "code",
   "execution_count": 5,
   "metadata": {
    "ExecuteTime": {
     "end_time": "2019-11-04T09:00:05.289458Z",
     "start_time": "2019-11-04T09:00:05.091657Z"
    },
    "scrolled": true
   },
   "outputs": [
    {
     "name": "stdout",
     "output_type": "stream",
     "text": [
      "<class 'pandas.core.frame.DataFrame'>\n",
      "RangeIndex: 2051 entries, 0 to 2050\n",
      "Data columns (total 81 columns):\n",
      "Id                 2051 non-null int32\n",
      "PID                2051 non-null int32\n",
      "MS SubClass        2051 non-null int32\n",
      "MS Zoning          2051 non-null category\n",
      "Lot Frontage       1721 non-null float32\n",
      "Lot Area           2051 non-null int32\n",
      "Street             2051 non-null category\n",
      "Alley              140 non-null category\n",
      "Lot Shape          2051 non-null category\n",
      "Land Contour       2051 non-null category\n",
      "Utilities          2051 non-null category\n",
      "Lot Config         2051 non-null category\n",
      "Land Slope         2051 non-null category\n",
      "Neighborhood       2051 non-null category\n",
      "Condition 1        2051 non-null category\n",
      "Condition 2        2051 non-null category\n",
      "Bldg Type          2051 non-null category\n",
      "House Style        2051 non-null category\n",
      "Overall Qual       2051 non-null int32\n",
      "Overall Cond       2051 non-null int32\n",
      "Year Built         2051 non-null int32\n",
      "Year Remod/Add     2051 non-null int32\n",
      "Roof Style         2051 non-null category\n",
      "Roof Matl          2051 non-null category\n",
      "Exterior 1st       2051 non-null category\n",
      "Exterior 2nd       2051 non-null category\n",
      "Mas Vnr Type       2029 non-null category\n",
      "Mas Vnr Area       2029 non-null float32\n",
      "Exter Qual         2051 non-null category\n",
      "Exter Cond         2051 non-null category\n",
      "Foundation         2051 non-null category\n",
      "Bsmt Qual          1996 non-null category\n",
      "Bsmt Cond          1996 non-null category\n",
      "Bsmt Exposure      1993 non-null category\n",
      "BsmtFin Type 1     1996 non-null category\n",
      "BsmtFin SF 1       2050 non-null float32\n",
      "BsmtFin Type 2     1995 non-null category\n",
      "BsmtFin SF 2       2050 non-null float32\n",
      "Bsmt Unf SF        2050 non-null float32\n",
      "Total Bsmt SF      2050 non-null float32\n",
      "Heating            2051 non-null category\n",
      "Heating QC         2051 non-null category\n",
      "Central Air        2051 non-null category\n",
      "Electrical         2051 non-null category\n",
      "1st Flr SF         2051 non-null int32\n",
      "2nd Flr SF         2051 non-null int32\n",
      "Low Qual Fin SF    2051 non-null int32\n",
      "Gr Liv Area        2051 non-null int32\n",
      "Bsmt Full Bath     2049 non-null float32\n",
      "Bsmt Half Bath     2049 non-null float32\n",
      "Full Bath          2051 non-null int32\n",
      "Half Bath          2051 non-null int32\n",
      "Bedroom AbvGr      2051 non-null int32\n",
      "Kitchen AbvGr      2051 non-null int32\n",
      "Kitchen Qual       2051 non-null category\n",
      "TotRms AbvGrd      2051 non-null int32\n",
      "Functional         2051 non-null category\n",
      "Fireplaces         2051 non-null int32\n",
      "Fireplace Qu       1051 non-null category\n",
      "Garage Type        1938 non-null category\n",
      "Garage Yr Blt      1937 non-null float32\n",
      "Garage Finish      1937 non-null category\n",
      "Garage Cars        2050 non-null float32\n",
      "Garage Area        2050 non-null float32\n",
      "Garage Qual        1937 non-null category\n",
      "Garage Cond        1937 non-null category\n",
      "Paved Drive        2051 non-null category\n",
      "Wood Deck SF       2051 non-null int32\n",
      "Open Porch SF      2051 non-null int32\n",
      "Enclosed Porch     2051 non-null int32\n",
      "3Ssn Porch         2051 non-null int32\n",
      "Screen Porch       2051 non-null int32\n",
      "Pool Area          2051 non-null int32\n",
      "Pool QC            9 non-null category\n",
      "Fence              400 non-null category\n",
      "Misc Feature       65 non-null category\n",
      "Misc Val           2051 non-null int32\n",
      "Mo Sold            2051 non-null int32\n",
      "Yr Sold            2051 non-null int32\n",
      "Sale Type          2051 non-null category\n",
      "SalePrice          2051 non-null int32\n",
      "dtypes: category(42), float32(11), int32(28)\n",
      "memory usage: 407.7 KB\n"
     ]
    }
   ],
   "source": [
    "def convert_columns(df):  \n",
    "    for col in df.columns:    \n",
    "        col_type = df[col].dtype\n",
    "        if (col_type == 'object'):\n",
    "                df[col] = df[col].astype('category')    \n",
    "        if (col_type == 'int64'):\n",
    "                df[col] = df[col].astype('int32')   \n",
    "        if (col_type == 'float64'):\n",
    "                df[col] = df[col].astype('float32')  \n",
    "    return df\n",
    "\n",
    "for col in train:\n",
    "    convert_columns(train)\n",
    "    \n",
    "train.info()"
   ]
  },
  {
   "cell_type": "markdown",
   "metadata": {},
   "source": [
    "### Separate x and y columns"
   ]
  },
  {
   "cell_type": "code",
   "execution_count": 6,
   "metadata": {
    "ExecuteTime": {
     "end_time": "2019-11-04T09:00:07.877457Z",
     "start_time": "2019-11-04T09:00:07.868358Z"
    }
   },
   "outputs": [
    {
     "name": "stdout",
     "output_type": "stream",
     "text": [
      "(2051, 80)\n",
      "(2051, 1)\n"
     ]
    }
   ],
   "source": [
    "x = train.loc[:, train.columns != 'SalePrice']\n",
    "y = train[['SalePrice']]\n",
    "\n",
    "print(x.shape)\n",
    "print(y.shape)"
   ]
  },
  {
   "cell_type": "markdown",
   "metadata": {},
   "source": [
    "### Create entities"
   ]
  },
  {
   "cell_type": "code",
   "execution_count": 7,
   "metadata": {
    "ExecuteTime": {
     "end_time": "2019-11-04T09:00:09.997696Z",
     "start_time": "2019-11-04T09:00:09.981191Z"
    }
   },
   "outputs": [
    {
     "name": "stdout",
     "output_type": "stream",
     "text": [
      "2019-11-04 17:00:09,982 featuretools.entityset - WARNING    ('Using first column as index. ', 'To change this, specify the index parameter')\n"
     ]
    }
   ],
   "source": [
    "entity_set_x = ft.EntitySet(id = 'x')\n",
    "\n",
    "entity_set_x = entity_set_x.entity_from_dataframe(entity_id = 'x',\n",
    "                                             dataframe = x,\n",
    "                                             )"
   ]
  },
  {
   "cell_type": "code",
   "execution_count": 12,
   "metadata": {},
   "outputs": [
    {
     "data": {
      "text/plain": [
       "Entityset: x\n",
       "  Entities:\n",
       "    x [Rows: 2051, Columns: 80]\n",
       "  Relationships:\n",
       "    No relationships"
      ]
     },
     "execution_count": 12,
     "metadata": {},
     "output_type": "execute_result"
    }
   ],
   "source": [
    "# check that it has read all the data in\n",
    "entity_set_x"
   ]
  },
  {
   "cell_type": "markdown",
   "metadata": {},
   "source": [
    "### Create primitives"
   ]
  },
  {
   "cell_type": "code",
   "execution_count": 13,
   "metadata": {
    "scrolled": true
   },
   "outputs": [
    {
     "data": {
      "text/html": [
       "<div>\n",
       "<style scoped>\n",
       "    .dataframe tbody tr th:only-of-type {\n",
       "        vertical-align: middle;\n",
       "    }\n",
       "\n",
       "    .dataframe tbody tr th {\n",
       "        vertical-align: top;\n",
       "    }\n",
       "\n",
       "    .dataframe thead th {\n",
       "        text-align: right;\n",
       "    }\n",
       "</style>\n",
       "<table border=\"1\" class=\"dataframe\">\n",
       "  <thead>\n",
       "    <tr style=\"text-align: right;\">\n",
       "      <th></th>\n",
       "      <th>name</th>\n",
       "      <th>type</th>\n",
       "      <th>description</th>\n",
       "    </tr>\n",
       "  </thead>\n",
       "  <tbody>\n",
       "    <tr>\n",
       "      <td>0</td>\n",
       "      <td>mean</td>\n",
       "      <td>aggregation</td>\n",
       "      <td>Computes the average for a list of values.</td>\n",
       "    </tr>\n",
       "    <tr>\n",
       "      <td>1</td>\n",
       "      <td>last</td>\n",
       "      <td>aggregation</td>\n",
       "      <td>Determines the last value in a list.</td>\n",
       "    </tr>\n",
       "    <tr>\n",
       "      <td>2</td>\n",
       "      <td>count</td>\n",
       "      <td>aggregation</td>\n",
       "      <td>Determines the total number of values, excludi...</td>\n",
       "    </tr>\n",
       "    <tr>\n",
       "      <td>3</td>\n",
       "      <td>skew</td>\n",
       "      <td>aggregation</td>\n",
       "      <td>Computes the extent to which a distribution di...</td>\n",
       "    </tr>\n",
       "    <tr>\n",
       "      <td>4</td>\n",
       "      <td>n_most_common</td>\n",
       "      <td>aggregation</td>\n",
       "      <td>Determines the `n` most common elements.</td>\n",
       "    </tr>\n",
       "    <tr>\n",
       "      <td>5</td>\n",
       "      <td>num_true</td>\n",
       "      <td>aggregation</td>\n",
       "      <td>Counts the number of `True` values.</td>\n",
       "    </tr>\n",
       "    <tr>\n",
       "      <td>6</td>\n",
       "      <td>trend</td>\n",
       "      <td>aggregation</td>\n",
       "      <td>Calculates the trend of a variable over time.</td>\n",
       "    </tr>\n",
       "    <tr>\n",
       "      <td>7</td>\n",
       "      <td>max</td>\n",
       "      <td>aggregation</td>\n",
       "      <td>Calculates the highest value, ignoring `NaN` v...</td>\n",
       "    </tr>\n",
       "    <tr>\n",
       "      <td>8</td>\n",
       "      <td>time_since_last</td>\n",
       "      <td>aggregation</td>\n",
       "      <td>Calculates the time elapsed since the last dat...</td>\n",
       "    </tr>\n",
       "    <tr>\n",
       "      <td>9</td>\n",
       "      <td>mode</td>\n",
       "      <td>aggregation</td>\n",
       "      <td>Determines the most commonly repeated value.</td>\n",
       "    </tr>\n",
       "    <tr>\n",
       "      <td>10</td>\n",
       "      <td>any</td>\n",
       "      <td>aggregation</td>\n",
       "      <td>Determines if any value is 'True' in a list.</td>\n",
       "    </tr>\n",
       "    <tr>\n",
       "      <td>11</td>\n",
       "      <td>sum</td>\n",
       "      <td>aggregation</td>\n",
       "      <td>Calculates the total addition, ignoring `NaN`.</td>\n",
       "    </tr>\n",
       "    <tr>\n",
       "      <td>12</td>\n",
       "      <td>std</td>\n",
       "      <td>aggregation</td>\n",
       "      <td>Computes the dispersion relative to the mean v...</td>\n",
       "    </tr>\n",
       "    <tr>\n",
       "      <td>13</td>\n",
       "      <td>avg_time_between</td>\n",
       "      <td>aggregation</td>\n",
       "      <td>Computes the average number of seconds between...</td>\n",
       "    </tr>\n",
       "    <tr>\n",
       "      <td>14</td>\n",
       "      <td>median</td>\n",
       "      <td>aggregation</td>\n",
       "      <td>Determines the middlemost number in a list of ...</td>\n",
       "    </tr>\n",
       "    <tr>\n",
       "      <td>15</td>\n",
       "      <td>percent_true</td>\n",
       "      <td>aggregation</td>\n",
       "      <td>Determines the percent of `True` values.</td>\n",
       "    </tr>\n",
       "    <tr>\n",
       "      <td>16</td>\n",
       "      <td>num_unique</td>\n",
       "      <td>aggregation</td>\n",
       "      <td>Determines the number of distinct values, igno...</td>\n",
       "    </tr>\n",
       "    <tr>\n",
       "      <td>17</td>\n",
       "      <td>time_since_first</td>\n",
       "      <td>aggregation</td>\n",
       "      <td>Calculates the time elapsed since the first da...</td>\n",
       "    </tr>\n",
       "    <tr>\n",
       "      <td>18</td>\n",
       "      <td>min</td>\n",
       "      <td>aggregation</td>\n",
       "      <td>Calculates the smallest value, ignoring `NaN` ...</td>\n",
       "    </tr>\n",
       "    <tr>\n",
       "      <td>19</td>\n",
       "      <td>all</td>\n",
       "      <td>aggregation</td>\n",
       "      <td>Calculates if all values are 'True' in a list.</td>\n",
       "    </tr>\n",
       "  </tbody>\n",
       "</table>\n",
       "</div>"
      ],
      "text/plain": [
       "                name         type                                        description\n",
       "0               mean  aggregation         Computes the average for a list of values.\n",
       "1               last  aggregation               Determines the last value in a list.\n",
       "2              count  aggregation  Determines the total number of values, excludi...\n",
       "3               skew  aggregation  Computes the extent to which a distribution di...\n",
       "4      n_most_common  aggregation           Determines the `n` most common elements.\n",
       "5           num_true  aggregation                Counts the number of `True` values.\n",
       "6              trend  aggregation      Calculates the trend of a variable over time.\n",
       "7                max  aggregation  Calculates the highest value, ignoring `NaN` v...\n",
       "8    time_since_last  aggregation  Calculates the time elapsed since the last dat...\n",
       "9               mode  aggregation       Determines the most commonly repeated value.\n",
       "10               any  aggregation       Determines if any value is 'True' in a list.\n",
       "11               sum  aggregation     Calculates the total addition, ignoring `NaN`.\n",
       "12               std  aggregation  Computes the dispersion relative to the mean v...\n",
       "13  avg_time_between  aggregation  Computes the average number of seconds between...\n",
       "14            median  aggregation  Determines the middlemost number in a list of ...\n",
       "15      percent_true  aggregation           Determines the percent of `True` values.\n",
       "16        num_unique  aggregation  Determines the number of distinct values, igno...\n",
       "17  time_since_first  aggregation  Calculates the time elapsed since the first da...\n",
       "18               min  aggregation  Calculates the smallest value, ignoring `NaN` ...\n",
       "19               all  aggregation     Calculates if all values are 'True' in a list."
      ]
     },
     "execution_count": 13,
     "metadata": {},
     "output_type": "execute_result"
    }
   ],
   "source": [
    "list_of_primitives = ft.primitives.list_primitives()\n",
    "list_of_primitives[list_of_primitives.type == 'aggregation']"
   ]
  },
  {
   "cell_type": "code",
   "execution_count": 14,
   "metadata": {
    "scrolled": true
   },
   "outputs": [
    {
     "data": {
      "text/html": [
       "<div>\n",
       "<style scoped>\n",
       "    .dataframe tbody tr th:only-of-type {\n",
       "        vertical-align: middle;\n",
       "    }\n",
       "\n",
       "    .dataframe tbody tr th {\n",
       "        vertical-align: top;\n",
       "    }\n",
       "\n",
       "    .dataframe thead th {\n",
       "        text-align: right;\n",
       "    }\n",
       "</style>\n",
       "<table border=\"1\" class=\"dataframe\">\n",
       "  <thead>\n",
       "    <tr style=\"text-align: right;\">\n",
       "      <th></th>\n",
       "      <th>name</th>\n",
       "      <th>type</th>\n",
       "      <th>description</th>\n",
       "    </tr>\n",
       "  </thead>\n",
       "  <tbody>\n",
       "    <tr>\n",
       "      <td>20</td>\n",
       "      <td>cum_sum</td>\n",
       "      <td>transform</td>\n",
       "      <td>Calculates the cumulative sum.</td>\n",
       "    </tr>\n",
       "    <tr>\n",
       "      <td>21</td>\n",
       "      <td>num_characters</td>\n",
       "      <td>transform</td>\n",
       "      <td>Calculates the number of characters in a string.</td>\n",
       "    </tr>\n",
       "    <tr>\n",
       "      <td>22</td>\n",
       "      <td>not_equal</td>\n",
       "      <td>transform</td>\n",
       "      <td>Determines if values in one list are not equal...</td>\n",
       "    </tr>\n",
       "    <tr>\n",
       "      <td>23</td>\n",
       "      <td>or</td>\n",
       "      <td>transform</td>\n",
       "      <td>Element-wise logical OR of two lists.</td>\n",
       "    </tr>\n",
       "    <tr>\n",
       "      <td>24</td>\n",
       "      <td>time_since_previous</td>\n",
       "      <td>transform</td>\n",
       "      <td>Compute the time since the previous entry in a...</td>\n",
       "    </tr>\n",
       "    <tr>\n",
       "      <td>25</td>\n",
       "      <td>longitude</td>\n",
       "      <td>transform</td>\n",
       "      <td>Returns the second tuple value in a list of La...</td>\n",
       "    </tr>\n",
       "    <tr>\n",
       "      <td>26</td>\n",
       "      <td>multiply_boolean</td>\n",
       "      <td>transform</td>\n",
       "      <td>Element-wise multiplication of two lists of bo...</td>\n",
       "    </tr>\n",
       "    <tr>\n",
       "      <td>27</td>\n",
       "      <td>is_weekend</td>\n",
       "      <td>transform</td>\n",
       "      <td>Determines if a date falls on a weekend.</td>\n",
       "    </tr>\n",
       "    <tr>\n",
       "      <td>28</td>\n",
       "      <td>equal</td>\n",
       "      <td>transform</td>\n",
       "      <td>Determines if values in one list are equal to ...</td>\n",
       "    </tr>\n",
       "    <tr>\n",
       "      <td>29</td>\n",
       "      <td>modulo_by_feature</td>\n",
       "      <td>transform</td>\n",
       "      <td>Return the modulo of a scalar by each element ...</td>\n",
       "    </tr>\n",
       "    <tr>\n",
       "      <td>30</td>\n",
       "      <td>greater_than</td>\n",
       "      <td>transform</td>\n",
       "      <td>Determines if values in one list are greater t...</td>\n",
       "    </tr>\n",
       "    <tr>\n",
       "      <td>31</td>\n",
       "      <td>multiply_numeric</td>\n",
       "      <td>transform</td>\n",
       "      <td>Element-wise multiplication of two lists.</td>\n",
       "    </tr>\n",
       "    <tr>\n",
       "      <td>32</td>\n",
       "      <td>month</td>\n",
       "      <td>transform</td>\n",
       "      <td>Determines the month value of a datetime.</td>\n",
       "    </tr>\n",
       "    <tr>\n",
       "      <td>33</td>\n",
       "      <td>less_than_equal_to</td>\n",
       "      <td>transform</td>\n",
       "      <td>Determines if values in one list are less than...</td>\n",
       "    </tr>\n",
       "    <tr>\n",
       "      <td>34</td>\n",
       "      <td>modulo_numeric</td>\n",
       "      <td>transform</td>\n",
       "      <td>Element-wise modulo of two lists.</td>\n",
       "    </tr>\n",
       "    <tr>\n",
       "      <td>35</td>\n",
       "      <td>percentile</td>\n",
       "      <td>transform</td>\n",
       "      <td>Determines the percentile rank for each value ...</td>\n",
       "    </tr>\n",
       "    <tr>\n",
       "      <td>36</td>\n",
       "      <td>negate</td>\n",
       "      <td>transform</td>\n",
       "      <td>Negates a numeric value.</td>\n",
       "    </tr>\n",
       "    <tr>\n",
       "      <td>37</td>\n",
       "      <td>subtract_numeric_scalar</td>\n",
       "      <td>transform</td>\n",
       "      <td>Subtract a scalar from each element in the list.</td>\n",
       "    </tr>\n",
       "    <tr>\n",
       "      <td>38</td>\n",
       "      <td>minute</td>\n",
       "      <td>transform</td>\n",
       "      <td>Determines the minutes value of a datetime.</td>\n",
       "    </tr>\n",
       "    <tr>\n",
       "      <td>39</td>\n",
       "      <td>divide_numeric_scalar</td>\n",
       "      <td>transform</td>\n",
       "      <td>Divide each element in the list by a scalar.</td>\n",
       "    </tr>\n",
       "    <tr>\n",
       "      <td>40</td>\n",
       "      <td>less_than</td>\n",
       "      <td>transform</td>\n",
       "      <td>Determines if values in one list are less than...</td>\n",
       "    </tr>\n",
       "    <tr>\n",
       "      <td>41</td>\n",
       "      <td>absolute</td>\n",
       "      <td>transform</td>\n",
       "      <td>Computes the absolute value of a number.</td>\n",
       "    </tr>\n",
       "    <tr>\n",
       "      <td>42</td>\n",
       "      <td>cum_min</td>\n",
       "      <td>transform</td>\n",
       "      <td>Calculates the cumulative minimum.</td>\n",
       "    </tr>\n",
       "    <tr>\n",
       "      <td>43</td>\n",
       "      <td>isin</td>\n",
       "      <td>transform</td>\n",
       "      <td>Determines whether a value is present in a pro...</td>\n",
       "    </tr>\n",
       "    <tr>\n",
       "      <td>44</td>\n",
       "      <td>add_numeric_scalar</td>\n",
       "      <td>transform</td>\n",
       "      <td>Add a scalar to each value in the list.</td>\n",
       "    </tr>\n",
       "    <tr>\n",
       "      <td>45</td>\n",
       "      <td>hour</td>\n",
       "      <td>transform</td>\n",
       "      <td>Determines the hour value of a datetime.</td>\n",
       "    </tr>\n",
       "    <tr>\n",
       "      <td>46</td>\n",
       "      <td>greater_than_equal_to</td>\n",
       "      <td>transform</td>\n",
       "      <td>Determines if values in one list are greater t...</td>\n",
       "    </tr>\n",
       "    <tr>\n",
       "      <td>47</td>\n",
       "      <td>cum_count</td>\n",
       "      <td>transform</td>\n",
       "      <td>Calculates the cumulative count.</td>\n",
       "    </tr>\n",
       "    <tr>\n",
       "      <td>48</td>\n",
       "      <td>num_words</td>\n",
       "      <td>transform</td>\n",
       "      <td>Determines the number of words in a string by ...</td>\n",
       "    </tr>\n",
       "    <tr>\n",
       "      <td>49</td>\n",
       "      <td>not_equal_scalar</td>\n",
       "      <td>transform</td>\n",
       "      <td>Determines if values in a list are not equal t...</td>\n",
       "    </tr>\n",
       "    <tr>\n",
       "      <td>50</td>\n",
       "      <td>is_null</td>\n",
       "      <td>transform</td>\n",
       "      <td>Determines if a value is null.</td>\n",
       "    </tr>\n",
       "    <tr>\n",
       "      <td>51</td>\n",
       "      <td>haversine</td>\n",
       "      <td>transform</td>\n",
       "      <td>Calculates the approximate haversine distance ...</td>\n",
       "    </tr>\n",
       "    <tr>\n",
       "      <td>52</td>\n",
       "      <td>divide_numeric</td>\n",
       "      <td>transform</td>\n",
       "      <td>Element-wise division of two lists.</td>\n",
       "    </tr>\n",
       "    <tr>\n",
       "      <td>53</td>\n",
       "      <td>weekday</td>\n",
       "      <td>transform</td>\n",
       "      <td>Determines the day of the week from a datetime.</td>\n",
       "    </tr>\n",
       "    <tr>\n",
       "      <td>54</td>\n",
       "      <td>and</td>\n",
       "      <td>transform</td>\n",
       "      <td>Element-wise logical AND of two lists.</td>\n",
       "    </tr>\n",
       "    <tr>\n",
       "      <td>55</td>\n",
       "      <td>equal_scalar</td>\n",
       "      <td>transform</td>\n",
       "      <td>Determines if values in a list are equal to a ...</td>\n",
       "    </tr>\n",
       "    <tr>\n",
       "      <td>56</td>\n",
       "      <td>latitude</td>\n",
       "      <td>transform</td>\n",
       "      <td>Returns the first tuple value in a list of Lat...</td>\n",
       "    </tr>\n",
       "    <tr>\n",
       "      <td>57</td>\n",
       "      <td>multiply_numeric_scalar</td>\n",
       "      <td>transform</td>\n",
       "      <td>Multiply each element in the list by a scalar.</td>\n",
       "    </tr>\n",
       "    <tr>\n",
       "      <td>58</td>\n",
       "      <td>year</td>\n",
       "      <td>transform</td>\n",
       "      <td>Determines the year value of a datetime.</td>\n",
       "    </tr>\n",
       "    <tr>\n",
       "      <td>59</td>\n",
       "      <td>less_than_equal_to_scalar</td>\n",
       "      <td>transform</td>\n",
       "      <td>Determines if values are less than or equal to...</td>\n",
       "    </tr>\n",
       "    <tr>\n",
       "      <td>60</td>\n",
       "      <td>modulo_numeric_scalar</td>\n",
       "      <td>transform</td>\n",
       "      <td>Return the modulo of each element in the list ...</td>\n",
       "    </tr>\n",
       "    <tr>\n",
       "      <td>61</td>\n",
       "      <td>not</td>\n",
       "      <td>transform</td>\n",
       "      <td>Negates a boolean value.</td>\n",
       "    </tr>\n",
       "    <tr>\n",
       "      <td>62</td>\n",
       "      <td>scalar_subtract_numeric_feature</td>\n",
       "      <td>transform</td>\n",
       "      <td>Subtract each value in the list from a given s...</td>\n",
       "    </tr>\n",
       "    <tr>\n",
       "      <td>63</td>\n",
       "      <td>week</td>\n",
       "      <td>transform</td>\n",
       "      <td>Determines the week of the year from a datetime.</td>\n",
       "    </tr>\n",
       "    <tr>\n",
       "      <td>64</td>\n",
       "      <td>divide_by_feature</td>\n",
       "      <td>transform</td>\n",
       "      <td>Divide a scalar by each value in the list.</td>\n",
       "    </tr>\n",
       "    <tr>\n",
       "      <td>65</td>\n",
       "      <td>less_than_scalar</td>\n",
       "      <td>transform</td>\n",
       "      <td>Determines if values are less than a given sca...</td>\n",
       "    </tr>\n",
       "    <tr>\n",
       "      <td>66</td>\n",
       "      <td>cum_max</td>\n",
       "      <td>transform</td>\n",
       "      <td>Calculates the cumulative maximum.</td>\n",
       "    </tr>\n",
       "    <tr>\n",
       "      <td>67</td>\n",
       "      <td>diff</td>\n",
       "      <td>transform</td>\n",
       "      <td>Compute the difference between the value in a ...</td>\n",
       "    </tr>\n",
       "    <tr>\n",
       "      <td>68</td>\n",
       "      <td>subtract_numeric</td>\n",
       "      <td>transform</td>\n",
       "      <td>Element-wise subtraction of two lists.</td>\n",
       "    </tr>\n",
       "    <tr>\n",
       "      <td>69</td>\n",
       "      <td>second</td>\n",
       "      <td>transform</td>\n",
       "      <td>Determines the seconds value of a datetime.</td>\n",
       "    </tr>\n",
       "    <tr>\n",
       "      <td>70</td>\n",
       "      <td>greater_than_equal_to_scalar</td>\n",
       "      <td>transform</td>\n",
       "      <td>Determines if values are greater than or equal...</td>\n",
       "    </tr>\n",
       "    <tr>\n",
       "      <td>71</td>\n",
       "      <td>cum_mean</td>\n",
       "      <td>transform</td>\n",
       "      <td>Calculates the cumulative mean.</td>\n",
       "    </tr>\n",
       "    <tr>\n",
       "      <td>72</td>\n",
       "      <td>time_since</td>\n",
       "      <td>transform</td>\n",
       "      <td>Calculates time from a value to a specified cu...</td>\n",
       "    </tr>\n",
       "    <tr>\n",
       "      <td>73</td>\n",
       "      <td>add_numeric</td>\n",
       "      <td>transform</td>\n",
       "      <td>Element-wise addition of two lists.</td>\n",
       "    </tr>\n",
       "    <tr>\n",
       "      <td>74</td>\n",
       "      <td>day</td>\n",
       "      <td>transform</td>\n",
       "      <td>Determines the day of the month from a datetime.</td>\n",
       "    </tr>\n",
       "    <tr>\n",
       "      <td>75</td>\n",
       "      <td>greater_than_scalar</td>\n",
       "      <td>transform</td>\n",
       "      <td>Determines if values are greater than a given ...</td>\n",
       "    </tr>\n",
       "  </tbody>\n",
       "</table>\n",
       "</div>"
      ],
      "text/plain": [
       "                               name       type                                        description\n",
       "20                          cum_sum  transform                     Calculates the cumulative sum.\n",
       "21                   num_characters  transform   Calculates the number of characters in a string.\n",
       "22                        not_equal  transform  Determines if values in one list are not equal...\n",
       "23                               or  transform              Element-wise logical OR of two lists.\n",
       "24              time_since_previous  transform  Compute the time since the previous entry in a...\n",
       "25                        longitude  transform  Returns the second tuple value in a list of La...\n",
       "26                 multiply_boolean  transform  Element-wise multiplication of two lists of bo...\n",
       "27                       is_weekend  transform           Determines if a date falls on a weekend.\n",
       "28                            equal  transform  Determines if values in one list are equal to ...\n",
       "29                modulo_by_feature  transform  Return the modulo of a scalar by each element ...\n",
       "30                     greater_than  transform  Determines if values in one list are greater t...\n",
       "31                 multiply_numeric  transform          Element-wise multiplication of two lists.\n",
       "32                            month  transform          Determines the month value of a datetime.\n",
       "33               less_than_equal_to  transform  Determines if values in one list are less than...\n",
       "34                   modulo_numeric  transform                  Element-wise modulo of two lists.\n",
       "35                       percentile  transform  Determines the percentile rank for each value ...\n",
       "36                           negate  transform                           Negates a numeric value.\n",
       "37          subtract_numeric_scalar  transform   Subtract a scalar from each element in the list.\n",
       "38                           minute  transform        Determines the minutes value of a datetime.\n",
       "39            divide_numeric_scalar  transform       Divide each element in the list by a scalar.\n",
       "40                        less_than  transform  Determines if values in one list are less than...\n",
       "41                         absolute  transform           Computes the absolute value of a number.\n",
       "42                          cum_min  transform                 Calculates the cumulative minimum.\n",
       "43                             isin  transform  Determines whether a value is present in a pro...\n",
       "44               add_numeric_scalar  transform            Add a scalar to each value in the list.\n",
       "45                             hour  transform           Determines the hour value of a datetime.\n",
       "46            greater_than_equal_to  transform  Determines if values in one list are greater t...\n",
       "47                        cum_count  transform                   Calculates the cumulative count.\n",
       "48                        num_words  transform  Determines the number of words in a string by ...\n",
       "49                 not_equal_scalar  transform  Determines if values in a list are not equal t...\n",
       "50                          is_null  transform                     Determines if a value is null.\n",
       "51                        haversine  transform  Calculates the approximate haversine distance ...\n",
       "52                   divide_numeric  transform                Element-wise division of two lists.\n",
       "53                          weekday  transform    Determines the day of the week from a datetime.\n",
       "54                              and  transform             Element-wise logical AND of two lists.\n",
       "55                     equal_scalar  transform  Determines if values in a list are equal to a ...\n",
       "56                         latitude  transform  Returns the first tuple value in a list of Lat...\n",
       "57          multiply_numeric_scalar  transform     Multiply each element in the list by a scalar.\n",
       "58                             year  transform           Determines the year value of a datetime.\n",
       "59        less_than_equal_to_scalar  transform  Determines if values are less than or equal to...\n",
       "60            modulo_numeric_scalar  transform  Return the modulo of each element in the list ...\n",
       "61                              not  transform                           Negates a boolean value.\n",
       "62  scalar_subtract_numeric_feature  transform  Subtract each value in the list from a given s...\n",
       "63                             week  transform   Determines the week of the year from a datetime.\n",
       "64                divide_by_feature  transform         Divide a scalar by each value in the list.\n",
       "65                 less_than_scalar  transform  Determines if values are less than a given sca...\n",
       "66                          cum_max  transform                 Calculates the cumulative maximum.\n",
       "67                             diff  transform  Compute the difference between the value in a ...\n",
       "68                 subtract_numeric  transform             Element-wise subtraction of two lists.\n",
       "69                           second  transform        Determines the seconds value of a datetime.\n",
       "70     greater_than_equal_to_scalar  transform  Determines if values are greater than or equal...\n",
       "71                         cum_mean  transform                    Calculates the cumulative mean.\n",
       "72                       time_since  transform  Calculates time from a value to a specified cu...\n",
       "73                      add_numeric  transform                Element-wise addition of two lists.\n",
       "74                              day  transform   Determines the day of the month from a datetime.\n",
       "75              greater_than_scalar  transform  Determines if values are greater than a given ..."
      ]
     },
     "execution_count": 14,
     "metadata": {},
     "output_type": "execute_result"
    }
   ],
   "source": [
    "list_of_primitives[list_of_primitives.type == 'transform']"
   ]
  },
  {
   "cell_type": "code",
   "execution_count": 15,
   "metadata": {},
   "outputs": [],
   "source": [
    "# select list of aggregation primitives to use on data\n",
    "agg_primitives = ['median','sum','n_most_common','count','time_since_last','avg_time_between','mean',\\\n",
    "                 'skew']"
   ]
  },
  {
   "cell_type": "code",
   "execution_count": 16,
   "metadata": {},
   "outputs": [],
   "source": [
    "# select list of transform primitives to use on data\n",
    "trans_primitives = ['diff','greater_than_equal_to','time_since','subtract_numeric','divide_numeric',\\\n",
    "                   'is_null','percentile','less_than']"
   ]
  },
  {
   "cell_type": "markdown",
   "metadata": {},
   "source": [
    "### Create features using the deep feature synthesis (dfs) object\n",
    "Using the above primitives, `featuretools` produced 4895 features."
   ]
  },
  {
   "cell_type": "code",
   "execution_count": 17,
   "metadata": {
    "scrolled": true
   },
   "outputs": [
    {
     "name": "stdout",
     "output_type": "stream",
     "text": [
      "Built 4895 features\n",
      "Elapsed: 00:08 | Progress: 100%|██████████\n"
     ]
    }
   ],
   "source": [
    "features, feature_names = ft.dfs(entityset = entity_set_x,\n",
    "                                target_entity = 'x',\n",
    "                                agg_primitives=agg_primitives,\n",
    "                                trans_primitives=trans_primitives,\n",
    "                                max_depth =1,\n",
    "                                verbose=True)"
   ]
  },
  {
   "cell_type": "code",
   "execution_count": 18,
   "metadata": {},
   "outputs": [
    {
     "data": {
      "text/plain": [
       "(2051, 4895)"
      ]
     },
     "execution_count": 18,
     "metadata": {},
     "output_type": "execute_result"
    }
   ],
   "source": [
    "features.shape"
   ]
  },
  {
   "cell_type": "markdown",
   "metadata": {},
   "source": [
    "### Feature cleaning"
   ]
  },
  {
   "cell_type": "code",
   "execution_count": 19,
   "metadata": {},
   "outputs": [],
   "source": [
    "# drop columns with inf and nan\n",
    "x = features.copy()\n",
    "x = x.reset_index()\n",
    "\n",
    "x = x.replace([np.inf, -np.inf], np.nan)\n",
    "x = x.dropna(axis=1, how='any')"
   ]
  },
  {
   "cell_type": "markdown",
   "metadata": {},
   "source": [
    "## Model-building\n",
    "---"
   ]
  },
  {
   "cell_type": "markdown",
   "metadata": {},
   "source": [
    "### One-hot encoding"
   ]
  },
  {
   "cell_type": "code",
   "execution_count": 20,
   "metadata": {},
   "outputs": [
    {
     "data": {
      "text/plain": [
       "(2051, 3579)"
      ]
     },
     "execution_count": 20,
     "metadata": {},
     "output_type": "execute_result"
    }
   ],
   "source": [
    "train_dummies = pd.get_dummies(x, drop_first = True)\n",
    "train_dummies.shape"
   ]
  },
  {
   "cell_type": "markdown",
   "metadata": {},
   "source": [
    "### Train-test-split"
   ]
  },
  {
   "cell_type": "code",
   "execution_count": 25,
   "metadata": {},
   "outputs": [
    {
     "name": "stdout",
     "output_type": "stream",
     "text": [
      "(1435, 3579)\n",
      "(1435, 1)\n"
     ]
    }
   ],
   "source": [
    "# train test split\n",
    "np.random.seed(100)\n",
    "xtrain, xtest, ytrain, ytest = train_test_split(train_dummies, y, test_size = 0.3, random_state = 7)\n",
    "    \n",
    "print(xtrain.shape)\n",
    "print(ytrain.shape)"
   ]
  },
  {
   "cell_type": "markdown",
   "metadata": {},
   "source": [
    "### Scale data"
   ]
  },
  {
   "cell_type": "code",
   "execution_count": 26,
   "metadata": {},
   "outputs": [],
   "source": [
    "from scipy.special import boxcox1p\n",
    "\n",
    "# scale data - standardscaler\n",
    "scaler = StandardScaler()\n",
    "\n",
    "xtrain_scaled = scaler.fit_transform(xtrain)\n",
    "xtest_scaled = scaler.transform(xtest)\n",
    "\n",
    "# ytrain_scaled = scaler.fit_transform(ytrain)\n",
    "# ytest_scaled = scaler.transform(ytest)\n",
    "\n",
    "# transform y\n",
    "ytrain['SalePrice'] = boxcox1p(ytrain['SalePrice'],0.15)\n",
    "ytest['SalePrice'] = boxcox1p(ytest['SalePrice'],0.15)"
   ]
  },
  {
   "cell_type": "markdown",
   "metadata": {},
   "source": [
    "### Hyperparameter tuning"
   ]
  },
  {
   "cell_type": "code",
   "execution_count": 27,
   "metadata": {},
   "outputs": [
    {
     "name": "stderr",
     "output_type": "stream",
     "text": [
      "[Parallel(n_jobs=-1)]: Using backend ThreadingBackend with 8 concurrent workers.\n",
      "............................................................[Parallel(n_jobs=-1)]: Done  30 out of  30 | elapsed:  1.0min finished\n"
     ]
    },
    {
     "name": "stdout",
     "output_type": "stream",
     "text": [
      "optimal enet alpha:  0.5\n",
      "optimal enet lambda:  0.1\n",
      "best elastic net R2:  0.9194684252622103\n"
     ]
    }
   ],
   "source": [
    "enet_alpha = np.arange(0, 1, 0.5)\n",
    "enet_ratio = [.01, .1, .2, .3, .5, .7, .9, .95, .99, 1]\n",
    "\n",
    "# fits multiple alphas and rhos\n",
    "enetcv = ElasticNetCV(alphas = enet_alpha, l1_ratio = enet_ratio, cv = 3, n_jobs = -1, verbose=True)\n",
    "enetcv = enetcv.fit(xtrain_scaled, ytrain)\n",
    "\n",
    "print('optimal enet alpha: ', enetcv.alpha_)\n",
    "print('optimal enet lambda: ', enetcv.l1_ratio_)\n",
    "print('best elastic net R2: ', enetcv.score(xtrain_scaled, ytrain))"
   ]
  },
  {
   "cell_type": "code",
   "execution_count": 28,
   "metadata": {},
   "outputs": [],
   "source": [
    "# instantiate models with previously selected hyperparameters\n",
    "enet = ElasticNet(alpha = enetcv.alpha_, l1_ratio = enetcv.l1_ratio_)"
   ]
  },
  {
   "cell_type": "markdown",
   "metadata": {},
   "source": [
    "### CV (train)"
   ]
  },
  {
   "cell_type": "code",
   "execution_count": 29,
   "metadata": {},
   "outputs": [],
   "source": [
    "# define CV function\n",
    "nfolds = 5 \n",
    "np.random.seed(100)\n",
    "\n",
    "def crossval(model, x, y):\n",
    "    kf = KFold(nfolds, shuffle = True, random_state = 7)\n",
    "    rmse = np.sqrt(-cross_val_score(model, x, y, cv = kf, scoring = 'neg_mean_squared_error'))\n",
    "    r2 = cross_val_score(model, x, y, cv = kf)\n",
    "    return 'mean CV R2:', r2.mean(), \\\n",
    "            'mean CV RMSE:', rmse.mean(), \\\n",
    "            'CV R2 variance:', r2.var(), \\\n",
    "            'CV RMSE variance:', rmse.var()"
   ]
  },
  {
   "cell_type": "code",
   "execution_count": 30,
   "metadata": {},
   "outputs": [
    {
     "name": "stdout",
     "output_type": "stream",
     "text": [
      "Baseline model: \n",
      " ('mean CV R2:', -0.009097800823119683, 'mean CV RMSE:', 2.5033834921525204, 'CV R2 variance:', 8.25759758736003e-05, 'CV RMSE variance:', 0.03571010636266923)\n",
      "ELASTIC NET: \n",
      " ('mean CV R2:', 0.8611922896542484, 'mean CV RMSE:', 0.9161701766926802, 'CV R2 variance:', 0.0016309677024140025, 'CV RMSE variance:', 0.017221024235979276)\n"
     ]
    }
   ],
   "source": [
    "# baseline model\n",
    "# use dummy regressor to predict using mean\n",
    "dummy_regressor = DummyRegressor()\n",
    "print('Baseline model: \\n', crossval(dummy_regressor, xtrain_scaled, ytrain))\n",
    "\n",
    "# elastic net regression\n",
    "print('ELASTIC NET: \\n', crossval(enet, xtrain_scaled, ytrain))"
   ]
  },
  {
   "cell_type": "markdown",
   "metadata": {},
   "source": [
    "### Model performance"
   ]
  },
  {
   "cell_type": "markdown",
   "metadata": {},
   "source": [
    "The model performance using automatically preprocessed features are summarised below:\n",
    "\n",
    "| Model \t| R2      \t| RMSE    \t|\n",
    "|-------\t|---------\t|---------\t|\n",
    "|Train - baseline model|-0.00909|2.50338\n",
    "|Test - baseline model |-0.00106|2.47530\n",
    "|Train - elastic net   |0.86119|0.91617\n",
    "|Test - elastic net    |0.90678|0.75532\n",
    "\n",
    "For comparison, the model score using manual preprocessing are:\n",
    "\n",
    "| Model \t| R2      \t| RMSE    \t|\n",
    "|-------\t|---------\t|---------\t|\n",
    "|Train - elastic net regression|0.91801|0.71084|\n",
    "|Test - elastic net regression|0.91851|0.71937|\n",
    "\n",
    "One can see that manual preprocessing produced a better score in this case. This is likely because as this dataset had relatively few features, manual preprocessing was able to better identify specific ways to treat each column, instead of applying a blanket treatment to all columns.\n",
    "\n",
    "The features selected in this case also greatly differ from those selected by the model from manually preprocessed data. For instance, the top 5 features in the automated model are:\n",
    "- `Gr Liv Area` < `BsmtFin SF 1` (whether `Gr Liv Area` is less than `BsmtFin SF 1`)\n",
    "- `Mo Sold` < `Bsmt Full Bath `\n",
    "- `Overall Qual`\n",
    "- `Kitchen AbvGr` - `Overall Qual` (`Kitchen AbvGr` minus `Overall Qual`)\n",
    "- `Overall Qual` / `Yr Sold` (`Overall Qual` divide by `Yr Sold`)\n",
    "\n",
    "Whereas in the original model, the top five coefficients are:\n",
    "- `Gr Liv Area` \t\n",
    "- `Overall Qual` \t\n",
    "- `Overall Cond`\n",
    "- `age_sold`\t\n",
    "- `Lot Area`\n",
    "\n",
    "The coefficients of the original model are also a lot easier to interprete in this case."
   ]
  },
  {
   "cell_type": "code",
   "execution_count": 38,
   "metadata": {},
   "outputs": [
    {
     "name": "stdout",
     "output_type": "stream",
     "text": [
      "baseline R2: -0.0010643924624773593\n",
      "baseline RMSE: 2.4753085804577317\n",
      "elastic net test R2:  0.9067870808032331\n",
      "elastic net test RMSE:  0.7553294098640038\n"
     ]
    }
   ],
   "source": [
    "# --------------------------------------- DEFINE ERROR METRICS ---------------------------------------\n",
    "def rmse(ytest, ypred):\n",
    "    return np.sqrt(mean_squared_error(ytest, ypred))\n",
    "\n",
    "# ----------------------------------------- FIT BASELINE MODEL ----------------------------------------\n",
    "# use dummy regressor to predict using mean\n",
    "dummy_regressor = DummyRegressor()\n",
    "baseline_mod = dummy_regressor.fit(xtrain_scaled, ytrain)\n",
    "baseline_pred = dummy_regressor.predict(xtest_scaled)\n",
    "\n",
    "print(f'baseline R2: {dummy_regressor.score(xtest_scaled, ytest)}')\n",
    "print(f'baseline RMSE: {rmse(ytest, baseline_pred)}')\n",
    "\n",
    "# --------------------------------------- FIT ELASTIC NET MODEL ---------------------------------------\n",
    "# fit model to train data\n",
    "enet_mod = enet.fit(xtrain_scaled, ytrain)\n",
    "# predict on test data\n",
    "ypred = enet_mod.predict(xtest_scaled)\n",
    "# evaluate model performance\n",
    "print('elastic net test R2: ', enet_mod.score(xtest_scaled, ytest))\n",
    "print('elastic net test RMSE: ', rmse(ytest, ypred))"
   ]
  },
  {
   "cell_type": "markdown",
   "metadata": {},
   "source": [
    "#### Coefficients"
   ]
  },
  {
   "cell_type": "code",
   "execution_count": 32,
   "metadata": {
    "scrolled": false
   },
   "outputs": [
    {
     "name": "stdout",
     "output_type": "stream",
     "text": [
      "the model produced 379 non-zero coefficients.\n"
     ]
    },
    {
     "data": {
      "image/png": "[encoded data removed]",
      "text/plain": [
       "<Figure size 1080x648 with 1 Axes>"
      ]
     },
     "metadata": {
      "needs_background": "light"
     },
     "output_type": "display_data"
    }
   ],
   "source": [
    "# ---------------------------------------- IDENTIFYING TOP FEATURES ----------------------------------------\n",
    "\n",
    "# get list of coefficients that are not 0\n",
    "coef_labels = [col for col in train_dummies.columns if col != 'SalePrice'] # column labels\n",
    "enet_coef = pd.DataFrame(enet_mod.coef_, index = coef_labels)              # get coefficients from best model\n",
    "enet_coef = enet_coef[enet_coef[0] != 0]                                   # get non-zero coefficients\n",
    "print(f'the model produced {enet_coef.shape[0]} non-zero coefficients.')\n",
    "\n",
    "# sort by absolute values\n",
    "enet_coef = enet_coef.reindex(enet_coef[0].abs().sort_values(ascending=True).index)\n",
    "\n",
    "# plot top 30 coefficients\n",
    "enet_coef.tail(30).plot.barh(figsize=(15,9), legend = None)\n",
    "plt.title('top 30 features with the highest coefficients',fontsize=14)\n",
    "plt.xlabel('coefficient', fontsize=12)\n",
    "plt.yticks(fontsize=12)\n",
    "plt.tight_layout()"
   ]
  },
  {
   "cell_type": "markdown",
   "metadata": {},
   "source": [
    "#### Residuals"
   ]
  },
  {
   "cell_type": "code",
   "execution_count": 33,
   "metadata": {
    "scrolled": false
   },
   "outputs": [
    {
     "data": {
      "image/png": "[encoded data removed]",
      "text/plain": [
       "<Figure size 432x360 with 1 Axes>"
      ]
     },
     "metadata": {
      "needs_background": "light"
     },
     "output_type": "display_data"
    }
   ],
   "source": [
    "# plot residuals\n",
    "resid = ypred - ytest.SalePrice\n",
    "\n",
    "plt.rcParams['figure.figsize'] = (6.0, 5.0)\n",
    "plt.scatter(ytest.SalePrice, resid)\n",
    "plt.axhline(0, linestyle='-', color='r')\n",
    "plt.title('residual distribution plot',fontsize=14)\n",
    "plt.xlabel('actual values',fontsize=12)\n",
    "plt.ylabel('residuals',fontsize=12)\n",
    "plt.tight_layout()"
   ]
  },
  {
   "cell_type": "code",
   "execution_count": 37,
   "metadata": {
    "scrolled": false
   },
   "outputs": [
    {
     "data": {
      "image/png": "[encoded data removed]",
      "text/plain": [
       "<Figure size 432x432 with 1 Axes>"
      ]
     },
     "metadata": {
      "needs_background": "light"
     },
     "output_type": "display_data"
    }
   ],
   "source": [
    "# plot ypred vs ytrue\n",
    "fig, ax = plt.subplots(figsize=(6.0, 6.0))\n",
    "ax.scatter(ytest.SalePrice, ypred)\n",
    "ax.set_title('predicted values distribution plot',fontsize=14)\n",
    "ax.set_xlabel('actual values',fontsize=12)\n",
    "ax.set_ylabel('predicted values',fontsize=12)\n",
    "ax.set_xlim(25,45)\n",
    "ax.set_ylim(25,45)\n",
    "ax.plot(ax.get_xlim(), ax.get_ylim(), ls=\"-\", c=\"r\")\n",
    "plt.tight_layout()"
   ]
  }
 ],
 "metadata": {
  "kernelspec": {
   "display_name": "Python 3",
   "language": "python",
   "name": "python3"
  },
  "language_info": {
   "codemirror_mode": {
    "name": "ipython",
    "version": 3
   },
   "file_extension": ".py",
   "mimetype": "text/x-python",
   "name": "python",
   "nbconvert_exporter": "python",
   "pygments_lexer": "ipython3",
   "version": "3.7.4"
  },
  "toc": {
   "base_numbering": 1,
   "nav_menu": {},
   "number_sections": true,
   "sideBar": true,
   "skip_h1_title": true,
   "title_cell": "Table of Contents",
   "title_sidebar": "Contents",
   "toc_cell": false,
   "toc_position": {},
   "toc_section_display": true,
   "toc_window_display": true
  },
  "varInspector": {
   "cols": {
    "lenName": 16,
    "lenType": 16,
    "lenVar": 40
   },
   "kernels_config": {
    "python": {
     "delete_cmd_postfix": "",
     "delete_cmd_prefix": "del ",
     "library": "var_list.py",
     "varRefreshCmd": "print(var_dic_list())"
    },
    "r": {
     "delete_cmd_postfix": ") ",
     "delete_cmd_prefix": "rm(",
     "library": "var_list.r",
     "varRefreshCmd": "cat(var_dic_list()) "
    }
   },
   "types_to_exclude": [
    "module",
    "function",
    "builtin_function_or_method",
    "instance",
    "_Feature"
   ],
   "window_display": false
  }
 },
 "nbformat": 4,
 "nbformat_minor": 2
}
